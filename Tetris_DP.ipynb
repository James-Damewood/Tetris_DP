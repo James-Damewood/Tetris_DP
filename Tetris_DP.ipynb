{
 "cells": [
  {
   "cell_type": "code",
   "execution_count": 10,
   "metadata": {
    "collapsed": true
   },
   "outputs": [],
   "source": [
    "import math\n",
    "import numpy as np\n",
    "import copy\n",
    "import matplotlib.pyplot as plt"
   ]
  },
  {
   "cell_type": "code",
   "execution_count": null,
   "metadata": {
    "collapsed": true
   },
   "outputs": [],
   "source": []
  },
  {
   "cell_type": "code",
   "execution_count": 11,
   "metadata": {
    "collapsed": true
   },
   "outputs": [],
   "source": [
    "profiles = {\n",
    "    'line':  [ [[1,1,1,1]], [[1],[1],[1],[1]] ],\n",
    "    'block': [ [[1,1],[1,1]] ],\n",
    "    't-block': [ [[1,1,1],[0,1,0]],[[0,1,0],[1,1,1]], [[1,0],[1,1],[1,0]] , [[0,1],[1,1],[0,1]]],\n",
    "    'left_l': [   [[1,1,1],[1,0,0]],  [[0,0,1],[1,1,1]], [[1,0],[1,0],[1,1]], [[1,1],[0,1],[0,1]] ],\n",
    "    'right_l':  [ [[1,1,1],[0,0,1]], [[1,0,0],[1,1,1]] , [[1,1],[1,0],[1,0]] , [[0,1],[0,1],[1,1]]   ],\n",
    "    'zigzag_r': [ [[1,1,0],[0,1,1]], [[0,1],[1,1],[1,0]] ], \n",
    "    'zigzag_l': [ [[0,1,1],[1,1,0]], [[1,0],[1,1],[0,1]] ]\n",
    "}"
   ]
  },
  {
   "cell_type": "code",
   "execution_count": 12,
   "metadata": {
    "collapsed": true
   },
   "outputs": [],
   "source": [
    "class piece():\n",
    "    def __init__(self,piece_type):\n",
    "        self.profile = profiles[piece_type]\n",
    "        \n",
    "    def get_profile(self):\n",
    "        return self.profile\n",
    "    \n",
    "    def get_rot_profile(self):\n",
    "        return self.profile\n",
    "        "
   ]
  },
  {
   "cell_type": "code",
   "execution_count": 13,
   "metadata": {
    "collapsed": true
   },
   "outputs": [],
   "source": [
    "def generate_pieces(num_pieces,classes):\n",
    "    list_of_pieces = []\n",
    "    for i in range(num_pieces):\n",
    "        piece_id = np.random.randint(0,len(classes))\n",
    "        curr_piece = piece(classes[piece_id])\n",
    "        list_of_pieces.append(curr_piece)\n",
    "    \n",
    "    return list_of_pieces"
   ]
  },
  {
   "cell_type": "code",
   "execution_count": 14,
   "metadata": {
    "collapsed": true
   },
   "outputs": [],
   "source": [
    "def initialize_dp(num_pieces,height,width):\n",
    "    dp_size = []\n",
    "    dp_size.append(num_pieces+1)\n",
    "    for i in range(width):\n",
    "        dp_size.append(height+1)\n",
    "    dp = np.zeros((tuple(dp_size)))\n",
    "    \n",
    "    skyline = np.ones((width))*height\n",
    "    while not end_topo_ordering(skyline):\n",
    "        #print(skyline)\n",
    "        curr_dp = np.concatenate((np.asarray([num_pieces]),skyline),axis=0)\n",
    "        if ( np.max(skyline) < height):\n",
    "            dp[tuple(curr_dp.astype(int))] = 1\n",
    "        skyline = get_next_topo(skyline,height)\n",
    "    \n",
    "    return dp"
   ]
  },
  {
   "cell_type": "code",
   "execution_count": 15,
   "metadata": {
    "collapsed": true
   },
   "outputs": [],
   "source": [
    "def end_topo_ordering(heights):\n",
    "    \n",
    "    if (heights[0]) == -1:\n",
    "        return True\n",
    "    \n",
    "    return False"
   ]
  },
  {
   "cell_type": "code",
   "execution_count": 16,
   "metadata": {
    "collapsed": true
   },
   "outputs": [],
   "source": [
    "def get_next_topo(heights,max_height):\n",
    "    \n",
    "    width = heights.shape[0]\n",
    "    if max(heights) == 0:\n",
    "        heights[0] = -1\n",
    "        return heights\n",
    "    else:\n",
    "        pos = 0\n",
    "        while pos<width and heights[pos]==0:\n",
    "            pos = pos + 1\n",
    "        for i in range(pos):\n",
    "            heights[i] = max_height\n",
    "        heights[pos] = heights[pos] - 1\n",
    "        return heights\n",
    "    \n",
    "    "
   ]
  },
  {
   "cell_type": "code",
   "execution_count": 17,
   "metadata": {
    "collapsed": true
   },
   "outputs": [],
   "source": [
    "class game():\n",
    "    def __init__(self,height,width,num_pieces,classes):\n",
    "        self.height = height\n",
    "        self.width = width\n",
    "        self.num_pieces = num_pieces\n",
    "        self.pieces = generate_pieces(num_pieces,classes)\n",
    "        self.pieces_rev = copy.deepcopy(self.pieces)\n",
    "        self.pieces_rev.reverse()\n",
    "        self.dp = initialize_dp(num_pieces,height,width)\n",
    "        \n",
    "    \n",
    "    def check_validity(self,h):\n",
    "        if np.max(h) >= self.height:\n",
    "            return False\n",
    "        return True\n",
    "        \n",
    "    def solve_game(self):\n",
    "        for i in range(self.num_pieces):\n",
    "            p_ind = (self.num_pieces - 1) - i\n",
    "            print(p_ind)\n",
    "            skyline = np.ones((self.width))*self.height\n",
    "            #print(skyline)\n",
    "            while not end_topo_ordering(skyline):\n",
    "                #print(skyline)\n",
    "                max_val = 0\n",
    "                #### skylines of updates\n",
    "                updates = self.get_poss_updates(skyline,self.pieces[p_ind])\n",
    "                #print(skyline)\n",
    "                for j in range(len(updates)):\n",
    "                    curr_update = updates[j]\n",
    "                    poss_game = np.concatenate((np.asarray([p_ind+1]),curr_update),axis=0)\n",
    "                    if (self.check_validity(curr_update)):\n",
    "                        if ( self.dp[tuple(poss_game.astype(int))] > max_val):\n",
    "                            max_val = self.dp[tuple(poss_game.astype(int))]\n",
    "                curr_game = np.concatenate((np.asarray([p_ind]),skyline),axis=0)\n",
    "                self.dp[tuple(curr_game.astype(int))] = max_val\n",
    "                skyline = get_next_topo(skyline,self.height)\n",
    "        \n",
    "    def get_poss_updates(self,skyline,new_piece):\n",
    "        poss_updates = []\n",
    "        piece_profiles = new_piece.get_rot_profile()\n",
    "        ##### check rotations\n",
    "        for i in range(len(piece_profiles)):\n",
    "            \n",
    "            curr_profile = piece_profiles[i]\n",
    "            prof_width = len(curr_profile[0])\n",
    "            prof_height = len(curr_profile)\n",
    "            ##### check positions\n",
    "            for j in range(self.width+1-prof_width):\n",
    "                curr_skyline = copy.deepcopy(skyline)\n",
    "                #### find contact point\n",
    "                max_h_eff = -1\n",
    "                contact_point = -1\n",
    "                for k in range(prof_width):\n",
    "                    \n",
    "                    ##### \n",
    "                    curr_pos = j + k\n",
    "                    gap = -1\n",
    "                    n = 0\n",
    "                    while gap == -1:\n",
    "                        if (curr_profile[n][k] == 1):\n",
    "                            gap = n\n",
    "                        else:\n",
    "                            n = n + 1\n",
    "                    \n",
    "                    height_eff = curr_skyline[curr_pos]-gap\n",
    "                    if (height_eff > max_h_eff):\n",
    "                        max_h_eff = height_eff\n",
    "                        contact_point = curr_pos\n",
    "                    \n",
    "                contact_level = curr_skyline[contact_point]+1\n",
    "                \n",
    "                        \n",
    "                for k in range(prof_width):\n",
    "                    curr_pos = j + k\n",
    "                    \n",
    "                    for n in range(prof_height):\n",
    "                        if (curr_profile[n][k] == 1):\n",
    "                            new_height = contact_level + n\n",
    "                        \n",
    "                    curr_skyline[curr_pos] = new_height\n",
    "                    \n",
    "                poss_updates.append(curr_skyline)\n",
    "                \n",
    "                    \n",
    "                    \n",
    "        return poss_updates\n",
    "    \n",
    "    def get_strategy(self):\n",
    "        strategy = np.zeros((self.width,self.height))\n",
    "        skyline = np.zeros((self.width))\n",
    "        for m in range(self.num_pieces):\n",
    "            p_ind = m\n",
    "            piece_profiles = self.pieces[m].get_rot_profile()\n",
    "            ##### check rotations\n",
    "            strategy,skyline = self.update_strategy(strategy,skyline,piece_profiles,p_ind)\n",
    "            #print(strategy)\n",
    "            #print(skyline)\n",
    "        return strategy\n",
    "    \n",
    "    def update_strategy(self,strategy,skyline,piece_profiles,p_ind):\n",
    "        for i in range(len(piece_profiles)):\n",
    "            curr_profile = piece_profiles[i]\n",
    "            prof_width = len(curr_profile[0])\n",
    "            prof_height = len(curr_profile)\n",
    "            ##### check positions\n",
    "            for j in range(self.width+1-prof_width):\n",
    "                curr_skyline = copy.deepcopy(skyline)\n",
    "                #### find contact point\n",
    "                max_h_eff = -1\n",
    "                contact_point = -1\n",
    "                for k in range(prof_width):\n",
    "                    ##### \n",
    "                    curr_pos = j + k\n",
    "                    gap = -1\n",
    "                    n = 0\n",
    "                    while gap == -1:\n",
    "                        if (curr_profile[n][k] == 1):\n",
    "                            gap = n\n",
    "                        else:\n",
    "                            n = n + 1\n",
    "                    height_eff = curr_skyline[curr_pos]-gap\n",
    "                    if (height_eff > max_h_eff):\n",
    "                        max_h_eff = height_eff\n",
    "                        contact_point = curr_pos\n",
    "                contact_level = curr_skyline[contact_point]+1\n",
    "                for k in range(prof_width):\n",
    "                    curr_pos = j + k\n",
    "                    for n in range(prof_height):\n",
    "                        if (curr_profile[n][k] == 1):\n",
    "                            new_height = contact_level + n\n",
    "                    curr_skyline[curr_pos] = new_height\n",
    "                curr_game = np.concatenate(([p_ind+1],curr_skyline),axis = 0)\n",
    "                if (self.check_validity(curr_skyline)):\n",
    "                    if (self.dp[tuple(curr_game.astype(int))]):\n",
    "                        random_val = np.random.rand()\n",
    "                        for x in range(prof_width):\n",
    "                            for y in range(prof_height):\n",
    "                                if curr_profile[y][x] == 1:\n",
    "                                    strategy[int(j+x),int(contact_level-1+y)] = random_val\n",
    "                                    \n",
    "                        soln = np.rot90(strategy,1)\n",
    "                        rows,cols = soln.shape\n",
    "                        soln = np.ma.masked_where(soln == 0, soln)\n",
    "                        plt.imshow(soln, interpolation='nearest', extent=[0, cols, 0, rows],cmap='Spectral',vmin=0,vmax=1)\n",
    "                        out = 'game_board' + str(p_ind) + '.png'\n",
    "                        plt.savefig(out)\n",
    "                        plt.show()\n",
    "                        return strategy,curr_skyline\n",
    "    \n",
    "    def is_possible(self):\n",
    "        curr_game = np.zeros((self.width+1))\n",
    "        return self.dp[tuple(curr_game.astype(int))]\n",
    "        "
   ]
  },
  {
   "cell_type": "code",
   "execution_count": null,
   "metadata": {
    "collapsed": true
   },
   "outputs": [],
   "source": [
    "##### height width num_pieces classes\n",
    "sim = game(12,5,13,['line','block','t-block','left_l','right_l','zigzag_r','zigzag_l'])"
   ]
  },
  {
   "cell_type": "code",
   "execution_count": null,
   "metadata": {},
   "outputs": [
    {
     "name": "stdout",
     "output_type": "stream",
     "text": [
      "12\n",
      "11\n"
     ]
    }
   ],
   "source": [
    "sim.solve_game()"
   ]
  },
  {
   "cell_type": "code",
   "execution_count": 132,
   "metadata": {},
   "outputs": [
    {
     "name": "stdout",
     "output_type": "stream",
     "text": [
      "1.0\n"
     ]
    }
   ],
   "source": [
    "print(sim.is_possible())"
   ]
  },
  {
   "cell_type": "code",
   "execution_count": 133,
   "metadata": {},
   "outputs": [
    {
     "data": {
      "image/png": "[encoded data removed]",
      "text/plain": [
       "<matplotlib.figure.Figure at 0x12234f080>"
      ]
     },
     "metadata": {},
     "output_type": "display_data"
    },
    {
     "data": {
      "image/png": "[encoded data removed]",
      "text/plain": [
       "<matplotlib.figure.Figure at 0x1222faa90>"
      ]
     },
     "metadata": {},
     "output_type": "display_data"
    },
    {
     "data": {
      "image/png": "[encoded data removed]",
      "text/plain": [
       "<matplotlib.figure.Figure at 0x11b995908>"
      ]
     },
     "metadata": {},
     "output_type": "display_data"
    },
    {
     "data": {
      "image/png": "[encoded data removed]",
      "text/plain": [
       "<matplotlib.figure.Figure at 0x12221dc88>"
      ]
     },
     "metadata": {},
     "output_type": "display_data"
    },
    {
     "data": {
      "image/png": "[encoded data removed]",
      "text/plain": [
       "<matplotlib.figure.Figure at 0x12253c5f8>"
      ]
     },
     "metadata": {},
     "output_type": "display_data"
    },
    {
     "data": {
      "image/png": "[encoded data removed]",
      "text/plain": [
       "<matplotlib.figure.Figure at 0x122523320>"
      ]
     },
     "metadata": {},
     "output_type": "display_data"
    },
    {
     "data": {
      "image/png": "[encoded data removed]",
      "text/plain": [
       "<matplotlib.figure.Figure at 0x122034940>"
      ]
     },
     "metadata": {},
     "output_type": "display_data"
    },
    {
     "data": {
      "image/png": "[encoded data removed]",
      "text/plain": [
       "<matplotlib.figure.Figure at 0x11f489518>"
      ]
     },
     "metadata": {},
     "output_type": "display_data"
    },
    {
     "data": {
      "image/png": "[encoded data removed]",
      "text/plain": [
       "<matplotlib.figure.Figure at 0x11f3eee48>"
      ]
     },
     "metadata": {},
     "output_type": "display_data"
    },
    {
     "data": {
      "image/png": "[encoded data removed]",
      "text/plain": [
       "<matplotlib.figure.Figure at 0x1220d45f8>"
      ]
     },
     "metadata": {},
     "output_type": "display_data"
    },
    {
     "data": {
      "image/png": "[encoded data removed]",
      "text/plain": [
       "<matplotlib.figure.Figure at 0x11f36f630>"
      ]
     },
     "metadata": {},
     "output_type": "display_data"
    },
    {
     "data": {
      "image/png": "[encoded data removed]",
      "text/plain": [
       "<matplotlib.figure.Figure at 0x11f7d3550>"
      ]
     },
     "metadata": {},
     "output_type": "display_data"
    },
    {
     "data": {
      "image/png": "[encoded data removed]",
      "text/plain": [
       "<matplotlib.figure.Figure at 0x11f8cfc18>"
      ]
     },
     "metadata": {},
     "output_type": "display_data"
    }
   ],
   "source": [
    "if (sim.is_possible()):\n",
    "    soln = sim.get_strategy()\n",
    "else:\n",
    "    print('Impossible')"
   ]
  },
  {
   "cell_type": "code",
   "execution_count": 134,
   "metadata": {},
   "outputs": [
    {
     "name": "stdout",
     "output_type": "stream",
     "text": [
      "[[0.         0.         0.         0.         0.        ]\n",
      " [0.64739064 0.64739064 0.64739064 0.50219792 0.50219792]\n",
      " [0.         0.64739064 0.12395845 0.50219792 0.39401377]\n",
      " [0.12395845 0.12395845 0.12395845 0.50219792 0.39401377]\n",
      " [0.34640691 0.34640691 0.12487836 0.39401377 0.39401377]\n",
      " [0.34640691 0.32827495 0.12487836 0.51992576 0.51992576]\n",
      " [0.34640691 0.32827495 0.12487836 0.51992576 0.51992576]\n",
      " [0.57671213 0.32827495 0.12487836 0.75311404 0.75311404]\n",
      " [0.57671213 0.32827495 0.8924419  0.75311404 0.75311404]\n",
      " [0.57671213 0.8924419  0.8924419  0.8924419  0.17452503]\n",
      " [0.57671213 0.59869001 0.         0.17452503 0.17452503]\n",
      " [0.59869001 0.59869001 0.59869001 0.         0.17452503]]\n"
     ]
    }
   ],
   "source": [
    "soln = np.rot90(soln,1)\n",
    "print(soln)"
   ]
  },
  {
   "cell_type": "code",
   "execution_count": 135,
   "metadata": {},
   "outputs": [
    {
     "data": {
      "image/png": "[encoded data removed]",
      "text/plain": [
       "<matplotlib.figure.Figure at 0x11f59edd8>"
      ]
     },
     "metadata": {},
     "output_type": "display_data"
    }
   ],
   "source": [
    "rows,cols = soln.shape\n",
    "soln = np.ma.masked_where(soln == 0, soln)\n",
    "plt.imshow(soln, interpolation='nearest', \n",
    "                 extent=[0, cols, 0, rows],\n",
    "                 cmap='Spectral')\n",
    "plt.show()"
   ]
  },
  {
   "cell_type": "code",
   "execution_count": 136,
   "metadata": {},
   "outputs": [
    {
     "name": "stderr",
     "output_type": "stream",
     "text": [
      "t:  38%|███▊      | 5/13 [00:00<00:00, 41.54it/s, now=None]"
     ]
    },
    {
     "name": "stdout",
     "output_type": "stream",
     "text": [
      "MoviePy - Building file tetris.gif with imageio.\n"
     ]
    },
    {
     "name": "stderr",
     "output_type": "stream",
     "text": [
      "                                                            \r"
     ]
    }
   ],
   "source": [
    "import glob\n",
    "import moviepy.editor as mpy\n",
    "\n",
    "gif_name = 'tetris'\n",
    "fps = 3\n",
    "file_list = []\n",
    "for i in range(sim.num_pieces):\n",
    "    curr_file = 'game_board' + str(i) + '.png'\n",
    "    file_list.append(curr_file)\n",
    "clip = mpy.ImageSequenceClip(file_list, fps=fps)\n",
    "clip.write_gif('{}.gif'.format(gif_name), fps=fps)"
   ]
  },
  {
   "cell_type": "code",
   "execution_count": null,
   "metadata": {
    "collapsed": true
   },
   "outputs": [],
   "source": []
  }
 ],
 "metadata": {
  "kernelspec": {
   "display_name": "Python 3",
   "language": "python",
   "name": "python3"
  },
  "language_info": {
   "codemirror_mode": {
    "name": "ipython",
    "version": 3
   },
   "file_extension": ".py",
   "mimetype": "text/x-python",
   "name": "python",
   "nbconvert_exporter": "python",
   "pygments_lexer": "ipython3",
   "version": "3.6.8"
  }
 },
 "nbformat": 4,
 "nbformat_minor": 2
}
